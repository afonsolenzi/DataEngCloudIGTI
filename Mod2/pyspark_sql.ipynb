{
 "cells": [
  {
   "cell_type": "code",
   "execution_count": 4,
   "metadata": {},
   "outputs": [],
   "source": [
    "# import statements\n",
    "from pyspark.sql import SQLContext\n",
    "from pyspark.sql.types import *\n",
    "from pyspark.sql.functions import *\n",
    "from pyspark.sql import functions as F\n",
    "from pyspark.sql import SparkSession\n",
    "import pandas as pd"
   ]
  },
  {
   "cell_type": "code",
   "execution_count": 5,
   "metadata": {},
   "outputs": [],
   "source": [
    "# Iniciando a sessão do Spark\n",
    "spark = SparkSession.builder.appName(\"spark-read-imdb\").getOrCreate()"
   ]
  },
  {
   "cell_type": "code",
   "execution_count": 6,
   "metadata": {},
   "outputs": [],
   "source": [
    "# Lendo os arquivos\n",
    "df_titles = spark.read.csv('data/title_basics.tsv', header=True, inferSchema=True, sep='\\t')\n",
    "df_ratings = spark.read.csv('data/title_ratings.tsv', header=True, inferSchema=True, sep='\\t')\n",
    "\n",
    "# Criando um dataframe único fazendo left join entre as 2 bases pela coluna \"tconst\"\n",
    "df_join = df_titles.join(df_ratings, on=[\"tconst\"], how=\"left\")\n",
    "\n",
    "# Registra o dataframe como uma tabela temporária\n",
    "df_join.createOrReplaceTempView(\"temp_imdb\")\n",
    "\n",
    "# Aumenta o limite de tamanho de exibição de colunas\n",
    "spark.conf.set(\"spark.sql.columnNameOfInference.truncated\", False)\n",
    "\n",
    "# Aumenta o limite de tamanho da saída do Spark\n",
    "spark.conf.set(\"spark.debug.maxToStringFields\", 100000)\n"
   ]
  },
  {
   "cell_type": "code",
   "execution_count": 136,
   "metadata": {},
   "outputs": [
    {
     "name": "stdout",
     "output_type": "stream",
     "text": [
      "+---------+---------+--------------------+--------------------+-------+---------+-------+--------------+--------------------+-------------+--------+\n",
      "|   tconst|titleType|        primaryTitle|       originalTitle|isAdult|startYear|endYear|runtimeMinutes|              genres|averageRating|numVotes|\n",
      "+---------+---------+--------------------+--------------------+-------+---------+-------+--------------+--------------------+-------------+--------+\n",
      "|tt0000001|    short|          Carmencita|          Carmencita|      0|     1894|     \\N|             1|   Documentary,Short|          5.7|    1809|\n",
      "|tt0000002|    short|Le clown et ses c...|Le clown et ses c...|      0|     1892|     \\N|             5|     Animation,Short|          6.0|     233|\n",
      "|tt0000003|    short|      Pauvre Pierrot|      Pauvre Pierrot|      0|     1892|     \\N|             4|Animation,Comedy,...|          6.5|    1560|\n",
      "|tt0000004|    short|         Un bon bock|         Un bon bock|      0|     1892|     \\N|            12|     Animation,Short|          6.1|     152|\n",
      "|tt0000005|    short|    Blacksmith Scene|    Blacksmith Scene|      0|     1893|     \\N|             1|        Comedy,Short|          6.2|    2383|\n",
      "|tt0000006|    short|   Chinese Opium Den|   Chinese Opium Den|      0|     1894|     \\N|             1|               Short|          5.1|     157|\n",
      "|tt0000007|    short|Corbett and Court...|Corbett and Court...|      0|     1894|     \\N|             1|         Short,Sport|          5.4|     746|\n",
      "|tt0000008|    short|Edison Kinetoscop...|Edison Kinetoscop...|      0|     1894|     \\N|             1|   Documentary,Short|          5.5|    1965|\n",
      "|tt0000009|    short|          Miss Jerry|          Miss Jerry|      0|     1894|     \\N|            40|       Romance,Short|          5.8|     189|\n",
      "|tt0000010|    short| Leaving the Factory|La sortie de l'us...|      0|     1895|     \\N|             1|   Documentary,Short|          6.9|    6530|\n",
      "+---------+---------+--------------------+--------------------+-------+---------+-------+--------------+--------------------+-------------+--------+\n",
      "\n"
     ]
    }
   ],
   "source": [
    "# Executa uma consulta usando Spark SQL\n",
    "query = \"select * from temp_imdb limit 10\"\n",
    "result = spark.sql(query)\n",
    "result.show()"
   ]
  },
  {
   "cell_type": "code",
   "execution_count": 137,
   "metadata": {},
   "outputs": [
    {
     "name": "stdout",
     "output_type": "stream",
     "text": [
      "+-----+\n",
      "| qtde|\n",
      "+-----+\n",
      "|19987|\n",
      "+-----+\n",
      "\n"
     ]
    }
   ],
   "source": [
    "# Questão 4: Quantos filmes (incluindo os da televisão) foram lançados no ano de 2015? --OK\n",
    "query = \"select count(*) as qtde from temp_imdb where startYear = 2015 and titleType IN('movie','tvMovie')\"\n",
    "result = spark.sql(query)\n",
    "result.show()"
   ]
  },
  {
   "cell_type": "code",
   "execution_count": 138,
   "metadata": {},
   "outputs": [
    {
     "name": "stdout",
     "output_type": "stream",
     "text": [
      "+------+---------+\n",
      "|genres|frequency|\n",
      "+------+---------+\n",
      "| Drama|   880649|\n",
      "+------+---------+\n",
      "\n"
     ]
    }
   ],
   "source": [
    "# Questão 5: Qual o gênero de títulos mais frequente? --OK\n",
    "query = \"select genres, count(*) as frequency from temp_imdb group by 1 order by 2 desc limit 1\"\n",
    "result = spark.sql(query)\n",
    "result.show()"
   ]
  },
  {
   "cell_type": "code",
   "execution_count": 26,
   "metadata": {},
   "outputs": [
    {
     "name": "stdout",
     "output_type": "stream",
     "text": [
      "+-----------+----------+\n",
      "|     genero|max_rating|\n",
      "+-----------+----------+\n",
      "|    History|      7.35|\n",
      "|Documentary|      7.24|\n",
      "|  Biography|      7.18|\n",
      "+-----------+----------+\n",
      "\n"
     ]
    }
   ],
   "source": [
    "# Questão 6: Qual o gênero com a melhor nota média de títulos? --OK (History??)\n",
    "df_explode = df_join.select(\"tconst\", \"averageRating\", explode(split(df_join[\"genres\"], \",\")).alias(\"genero\"))\n",
    "df_explode.createOrReplaceTempView(\"temp_teste\")\n",
    "#df_explode.show()\n",
    "\n",
    "query = \"select genero, round(avg(averageRating), 2) as max_rating from temp_teste group by 1 order by 2 desc limit 3\"\n",
    "\n",
    "# #query = \"select genres, avg(averageRating) as max_rating from temp_imdb group by 1 order by 2 desc limit 1\"\n",
    "result = spark.sql(query)\n",
    "result.show()"
   ]
  },
  {
   "cell_type": "code",
   "execution_count": 140,
   "metadata": {},
   "outputs": [
    {
     "name": "stdout",
     "output_type": "stream",
     "text": [
      "+---------------+-------------+\n",
      "|   primaryTitle|averageRating|\n",
      "+---------------+-------------+\n",
      "|Half-Life: Alyx|          9.5|\n",
      "+---------------+-------------+\n",
      "\n"
     ]
    }
   ],
   "source": [
    "# Questão 7: Qual o vídeo game do gênero aventura mais bem avaliado em 2020? --OK\n",
    "query = \"\"\" \n",
    "        select primaryTitle, averageRating \n",
    "        from temp_imdb \n",
    "        where startYear = 2020 \n",
    "            AND genres LIKE '%Adventure%' \n",
    "            AND titleType = 'videoGame' \n",
    "            order by 2 desc limit 1\n",
    "        \"\"\"\n",
    "result = spark.sql(query)\n",
    "result.show()"
   ]
  },
  {
   "cell_type": "code",
   "execution_count": 141,
   "metadata": {},
   "outputs": [
    {
     "name": "stdout",
     "output_type": "stream",
     "text": [
      "+----------------------------+\n",
      "|count(DISTINCT primaryTitle)|\n",
      "+----------------------------+\n",
      "|                     3931670|\n",
      "+----------------------------+\n",
      "\n"
     ]
    }
   ],
   "source": [
    "# Questão 9: Quantos títulos de filmes diferentes existem? Use df_titles.select('primaryTitle').distinct().count() --OK\n",
    "#df_titles.select('primaryTitle').distinct().count() # --> Outro jeito de fazer via API de Data Frame\n",
    "query = \"select count(distinct primaryTitle) from temp_imdb\"\n",
    "result = spark.sql(query)\n",
    "result.show()"
   ]
  },
  {
   "cell_type": "code",
   "execution_count": 142,
   "metadata": {},
   "outputs": [
    {
     "name": "stdout",
     "output_type": "stream",
     "text": [
      "+-------------+\n",
      "|duracao_media|\n",
      "+-------------+\n",
      "|       92.799|\n",
      "+-------------+\n",
      "\n"
     ]
    }
   ],
   "source": [
    "# Questão 10: Qual a duração média dos filmes com conteúdo adulto? --OK\n",
    "query = \"select round(avg(runtimeMinutes), 3) as duracao_media from temp_imdb where isAdult = 1\"\n",
    "result = spark.sql(query)\n",
    "result.show()"
   ]
  },
  {
   "cell_type": "code",
   "execution_count": 129,
   "metadata": {},
   "outputs": [
    {
     "name": "stdout",
     "output_type": "stream",
     "text": [
      "+------+\n",
      "|   tot|\n",
      "+------+\n",
      "|125056|\n",
      "+------+\n",
      "\n"
     ]
    }
   ],
   "source": [
    "# Questão 11: Quantos filmes têm o título atual (“primary”) diferente do título original? Use uma combinação de filter, e count(). --OK\n",
    "query = \"select count(*) as tot from temp_imdb where primaryTitle <> originalTitle\"\n",
    "result = spark.sql(query)\n",
    "result.show()"
   ]
  },
  {
   "cell_type": "code",
   "execution_count": 130,
   "metadata": {},
   "outputs": [
    {
     "name": "stdout",
     "output_type": "stream",
     "text": [
      "+----------+-------+\n",
      "|    tconst|tamanho|\n",
      "+----------+-------+\n",
      "|tt12985206|    419|\n",
      "+----------+-------+\n",
      "\n"
     ]
    }
   ],
   "source": [
    "# Questão 12: Qual o filme que tem o nome mais longo? --OK\n",
    "query = \"select tconst, length(primaryTitle) as tamanho from temp_imdb order by 2 desc limit 1\"\n",
    "result = spark.sql(query)\n",
    "result.show()"
   ]
  },
  {
   "cell_type": "code",
   "execution_count": 131,
   "metadata": {},
   "outputs": [
    {
     "name": "stdout",
     "output_type": "stream",
     "text": [
      "+---------+----------+\n",
      "|   tconst|qtde_votos|\n",
      "+---------+----------+\n",
      "|tt0111161|   2449517|\n",
      "+---------+----------+\n",
      "\n"
     ]
    }
   ],
   "source": [
    "# Questão 13: Qual filme tem a maior quantidade de votos? --OK\n",
    "query = \"select tconst, sum(numVotes) as qtde_votos from temp_imdb group by 1 order by 2 desc limit 1\"\n",
    "result = spark.sql(query)\n",
    "result.show()"
   ]
  },
  {
   "cell_type": "code",
   "execution_count": 132,
   "metadata": {},
   "outputs": [
    {
     "name": "stdout",
     "output_type": "stream",
     "text": [
      "+--------------+\n",
      "|min_nota_media|\n",
      "+--------------+\n",
      "|           1.0|\n",
      "+--------------+\n",
      "\n"
     ]
    }
   ],
   "source": [
    "# Questão 15: Qual é a menor nota média de um filme? --OK\n",
    "query = \"select min(averageRating) as min_nota_media from temp_imdb order by 1 limit 1\"\n",
    "result = spark.sql(query)\n",
    "result.show() "
   ]
  }
 ],
 "metadata": {
  "kernelspec": {
   "display_name": "Python 3",
   "language": "python",
   "name": "python3"
  },
  "language_info": {
   "codemirror_mode": {
    "name": "ipython",
    "version": 3
   },
   "file_extension": ".py",
   "mimetype": "text/x-python",
   "name": "python",
   "nbconvert_exporter": "python",
   "pygments_lexer": "ipython3",
   "version": "3.11.1"
  },
  "orig_nbformat": 4,
  "vscode": {
   "interpreter": {
    "hash": "2ad8d97fcd0d5a9550293142cb275cf6576873094661b82786d63ed76d78d1c4"
   }
  }
 },
 "nbformat": 4,
 "nbformat_minor": 2
}
