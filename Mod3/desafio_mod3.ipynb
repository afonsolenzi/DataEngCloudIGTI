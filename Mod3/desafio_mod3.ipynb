{
 "cells": [
  {
   "attachments": {},
   "cell_type": "markdown",
   "metadata": {},
   "source": [
    "### Import Libs"
   ]
  },
  {
   "cell_type": "code",
   "execution_count": 1,
   "metadata": {},
   "outputs": [],
   "source": [
    "import os\n",
    "os.environ[\"PYARROW_IGNORE_TIMEZONE\"] = \"1\"\n",
    "\n",
    "import pyspark\n",
    "from pyspark.sql import SparkSession\n",
    "from pyspark.sql.functions import *\n",
    "\n",
    "import pandas as pd\n",
    "pd.set_option(\"display.max_rows\", None)\n",
    "pd.set_option(\"display.max_columns\", None)\n",
    "pd.set_option(\"display.max_colwidth\", None)"
   ]
  },
  {
   "attachments": {},
   "cell_type": "markdown",
   "metadata": {},
   "source": [
    "### Spark Session"
   ]
  },
  {
   "cell_type": "code",
   "execution_count": 2,
   "metadata": {},
   "outputs": [
    {
     "data": {
      "text/plain": [
       "'3.3.1'"
      ]
     },
     "execution_count": 2,
     "metadata": {},
     "output_type": "execute_result"
    }
   ],
   "source": [
    "spark = (SparkSession.builder\n",
    "                     .master(\"local[*]\")\n",
    "                     .appName(\"desafioMod3\")\n",
    "                     .getOrCreate())\n",
    "spark.version"
   ]
  },
  {
   "cell_type": "code",
   "execution_count": 3,
   "metadata": {},
   "outputs": [],
   "source": [
    "spark.conf.set(\"spark.sql.shuffle.partitions\", 8)"
   ]
  },
  {
   "cell_type": "code",
   "execution_count": 4,
   "metadata": {},
   "outputs": [],
   "source": [
    "def displayFunc(df, rows = None):\n",
    "    df = df.to_pandas_on_spark()\n",
    "    if rows == None:\n",
    "        dfFim = df.head()\n",
    "    else:\n",
    "        dfFim = df.head(rows)\n",
    "    return dfFim"
   ]
  },
  {
   "cell_type": "code",
   "execution_count": 7,
   "metadata": {},
   "outputs": [],
   "source": [
    "def loadFile(fileTxt):\n",
    "      pathTxt = f'C:/Lenzi/Big Data - Analytics/IGTI-BOOTCAMP/Modulo-3/Desafio-Mod3/microdados_Enade_2017_LGPD/2.DADOS/'\n",
    "\n",
    "      df = (\n",
    "             spark.read\n",
    "                  .format(\"csv\")\n",
    "                  .option(\"header\", \"true\")\n",
    "                  .option(\"sep\", \";\")\n",
    "                  .option(\"inferSchema\", \"true\")\n",
    "                  .load(f'{pathTxt}{fileTxt}')\n",
    "            )\n",
    "      return df"
   ]
  },
  {
   "cell_type": "code",
   "execution_count": 15,
   "metadata": {},
   "outputs": [],
   "source": [
    "## Load Files\n",
    "df_enade       = loadFile('microdados2017_arq1.txt')\n",
    "df_enade_media = loadFile('microdados2017_arq3.txt')\n",
    "df_enade_sexo  = loadFile('microdados2017_arq5.txt')\n",
    "df_enade_idade  = loadFile('microdados2017_arq6.txt')\n",
    "df_enade_estrangeiro  = loadFile('microdados2017_arq9.txt')\n",
    "\n",
    "## create Views\n",
    "df_enade.createOrReplaceTempView(\"vw_enade\")\n",
    "df_enade_sexo.createOrReplaceTempView(\"vw_enade_sexo\")\n",
    "df_enade_media.createOrReplaceTempView(\"vw_enade_media\")\n",
    "df_enade_idade.createOrReplaceTempView(\"vw_enade_idade\")\n",
    "df_enade_estrangeiro.createOrReplaceTempView(\"vw_enade_estrangeiro\")"
   ]
  },
  {
   "cell_type": "code",
   "execution_count": 9,
   "metadata": {},
   "outputs": [
    {
     "data": {
      "text/plain": [
       "7113"
      ]
     },
     "execution_count": 9,
     "metadata": {},
     "output_type": "execute_result"
    }
   ],
   "source": [
    "## 01. Qual era o número de alunos de cursos de Filosofia inscritos no ENADE 2017? \n",
    "## a. 2596. b. 3018. c. 7113. d. 4615.\n",
    "## R: C\n",
    "\n",
    "df_enade.filter(\" CO_GRUPO IN ('3201', '3202') \").count()"
   ]
  },
  {
   "cell_type": "code",
   "execution_count": 10,
   "metadata": {},
   "outputs": [
    {
     "name": "stdout",
     "output_type": "stream",
     "text": [
      "+-------+-----+\n",
      "|TP_SEXO|TOTAL|\n",
      "+-------+-----+\n",
      "|      F| 2580|\n",
      "|      M| 4532|\n",
      "+-------+-----+\n",
      "\n"
     ]
    }
   ],
   "source": [
    "## 02. Qual é o número de alunos dos cursos de Filosofia do sexo Masculino? \n",
    "## a. 5739. b. 4532. c. 4286. d. 4783.\n",
    "## R: B\n",
    "\n",
    "spark.sql(\"\"\"\n",
    "               SELECT TP_SEXO,\n",
    "                      COUNT(CO_CURSO) AS TOTAL\n",
    "                 FROM vw_enade_sexo \n",
    "                WHERE CO_CURSO IN (SELECT CO_CURSO \n",
    "                                     FROM vw_enade  \n",
    "                                    WHERE CO_GRUPO IN(3201,3202)) \n",
    "                  AND TP_SEXO IS NOT NULL                                    \n",
    "                  -- AND TP_SEXO = 'M'  \n",
    "                GROUP BY TP_SEXO\n",
    "          \"\"\").show()"
   ]
  },
  {
   "cell_type": "code",
   "execution_count": 11,
   "metadata": {},
   "outputs": [
    {
     "name": "stdout",
     "output_type": "stream",
     "text": [
      "+-----------+------+\n",
      "|CO_UF_CURSO|NT_GER|\n",
      "+-----------+------+\n",
      "|         53| 54.25|\n",
      "+-----------+------+\n",
      "only showing top 1 row\n",
      "\n"
     ]
    }
   ],
   "source": [
    "## 03. Qual é o código de UF que possui a maior média de nota geral \n",
    "##     entre os alunos dos cursos de Filosofia?\n",
    "## a. 31. b. 53. c. 33. d. 42.\n",
    "## R: B\n",
    "\n",
    "spark.sql(\"\"\"\n",
    "              SELECT e.CO_UF_CURSO AS CO_UF_CURSO,\n",
    "                     ROUND(AVG(m.NT_GER),2) AS NT_GER\n",
    "                FROM vw_enade_media AS m\n",
    "               INNER JOIN vw_enade AS e\n",
    "                  ON m.CO_CURSO == e.CO_CURSO\n",
    "                 AND m.NU_ANO == e.NU_ANO\n",
    "               WHERE e.CO_GRUPO IN (3201,3202)\n",
    "                 AND m.NT_GER IS NOT NULL\n",
    "               GROUP BY e.CO_UF_CURSO\n",
    "               ORDER BY NT_GER DESC\n",
    "          \"\"\").show(1)"
   ]
  },
  {
   "cell_type": "code",
   "execution_count": 12,
   "metadata": {},
   "outputs": [
    {
     "name": "stdout",
     "output_type": "stream",
     "text": [
      "+---------------+\n",
      "|DIF_MEDIA_IDADE|\n",
      "+---------------+\n",
      "|           5.57|\n",
      "+---------------+\n",
      "\n"
     ]
    }
   ],
   "source": [
    "## 04. Qual é a diferença das médias de idade (arredondado para 2 dígitos decimais) \n",
    "##     entre os alunos dos cursos de filosofia e física?\n",
    "## a. 3,45. b. 0,50. c. 7,22. d. 5,57.\n",
    "## R: D\n",
    "\n",
    "spark.sql(\"\"\"\n",
    "            WITH \n",
    "            filosofia\n",
    "                   AS (\n",
    "                        SELECT ROUND(AVG(NU_IDADE),2) AS MEDIA_NU_IDADE,\n",
    "                               'filosofia' AS CURSO\n",
    "                          FROM vw_enade_idade \n",
    "                         WHERE CO_CURSO IN (SELECT CO_CURSO \n",
    "                                              FROM vw_enade  \n",
    "                                             WHERE CO_GRUPO IN(3201,3202))\n",
    "                      ),\n",
    "            fisica\n",
    "                AS (\n",
    "                     SELECT ROUND(AVG(NU_IDADE),2) AS MEDIA_NU_IDADE,\n",
    "                            'fisica' AS CURSO\n",
    "                       FROM vw_enade_idade \n",
    "                      WHERE CO_CURSO IN (SELECT CO_CURSO \n",
    "                                           FROM vw_enade  \n",
    "                                          WHERE CO_GRUPO IN(1401,1402))\n",
    "                  )\n",
    "                \n",
    "                 SELECT MEDIA_NU_IDADE \n",
    "                        - \n",
    "                        (SELECT MEDIA_NU_IDADE\n",
    "                           FROM fisica) AS DIF_MEDIA_IDADE\n",
    "                   FROM filosofia \n",
    "                \n",
    "          \"\"\").show()"
   ]
  },
  {
   "cell_type": "code",
   "execution_count": null,
   "metadata": {},
   "outputs": [
    {
     "name": "stdout",
     "output_type": "stream",
     "text": [
      "+--------+\n",
      "|NT_GERAL|\n",
      "+--------+\n",
      "|    89.5|\n",
      "+--------+\n",
      "\n"
     ]
    }
   ],
   "source": [
    "## 05. Qual é a maior nota geral entre alunos de filosofia que consideraram a prova “Fácil” \n",
    "##     na parte de Componente Específico ?\n",
    "## a. 93. b. 96. c. 87. d. 89.\n",
    "## R: D\n",
    "\n",
    "spark.sql(\"\"\"\n",
    "            SELECT MAX(m.NT_GER) AS NT_GERAL\n",
    "              FROM vw_enade_media AS m\n",
    "             INNER JOIN vw_enade AS e\n",
    "                ON m.CO_CURSO == e.CO_CURSO\n",
    "               AND m.NU_ANO == e.NU_ANO\n",
    "             WHERE e.CO_GRUPO IN (3201,3202)\n",
    "               AND m.CO_RS_I1 == 'B'\n",
    "          \"\"\").show()"
   ]
  },
  {
   "cell_type": "code",
   "execution_count": null,
   "metadata": {},
   "outputs": [
    {
     "name": "stdout",
     "output_type": "stream",
     "text": [
      "+--------+\n",
      "|NT_GERAL|\n",
      "+--------+\n",
      "|   47.56|\n",
      "+--------+\n",
      "\n"
     ]
    }
   ],
   "source": [
    "## 06. Qual é a média da nota geral para alunos de filosofia, cujo curso está no estado (UF) de código 43?\n",
    "## a. 56,32. b. 46,97. c. 47,11. d. 49,34.\n",
    "## R: ??\n",
    "\n",
    "spark.sql(\"\"\"\n",
    "              SELECT ROUND(AVG(NT_GER),2) AS NT_GERAL\n",
    "                FROM vw_enade_media\n",
    "               WHERE CO_CURSO IN (SELECT CO_CURSO \n",
    "                                    FROM vw_enade  \n",
    "                                   WHERE CO_GRUPO IN (3201,3202)\n",
    "                                     AND CO_UF_CURSO == 43)\n",
    "                AND NT_GER IS NOT NULL\n",
    "         \"\"\").show()"
   ]
  },
  {
   "cell_type": "code",
   "execution_count": 13,
   "metadata": {},
   "outputs": [
    {
     "name": "stdout",
     "output_type": "stream",
     "text": [
      "+--------+\n",
      "|NT_GERAL|\n",
      "+--------+\n",
      "|   45.88|\n",
      "+--------+\n",
      "\n"
     ]
    }
   ],
   "source": [
    "##06 Qual é a média da nota geral para alunos de filosofia, cujo curso está no estado (UF) de código43?\n",
    "#a. 56,32. b. 46,97. c. 47,11. d. 49,34.\n",
    "spark.sql(\"\"\"\n",
    "            SELECT ROUND(AVG(m.NT_GER),2) AS NT_GERAL\n",
    "              FROM vw_enade_media AS m\n",
    "             INNER JOIN vw_enade AS e\n",
    "                ON m.CO_CURSO == e.CO_CURSO\n",
    "               AND m.NU_ANO == e.NU_ANO\n",
    "             WHERE e.CO_GRUPO IN (3201,3202)\n",
    "               AND e.CO_UF_CURSO == 43\n",
    "          \"\"\").show()"
   ]
  },
  {
   "cell_type": "code",
   "execution_count": 57,
   "metadata": {},
   "outputs": [
    {
     "data": {
      "text/plain": [
       "537358"
      ]
     },
     "execution_count": 57,
     "metadata": {},
     "output_type": "execute_result"
    }
   ],
   "source": [
    "from pyspark.sql.window import Window\n",
    "from pyspark.sql.functions import row_number\n",
    "\n",
    "w = Window.partitionBy(\"NU_ANO\").orderBy(\"CO_CURSO\")\n",
    "\n",
    "df_enade_row =  df_enade.withColumn(\"columnindex\", row_number().over(w))\n",
    "df_enade_media_row =  df_enade_media.withColumn(\"columnindex\", row_number().over(w))\n",
    "\n",
    "newDF = df_enade_row.join(df_enade_media_row, df_enade_row.columnindex == df_enade_media_row.columnindex, 'left')\n",
    "newDF.drop(\"df_enade_media_row.columnindex\",\"df_enade_media_row.NU_ANO\",\"df_enade_media_row.CO_CURSO\")\n",
    "newDF.createOrReplaceTempView(\"vw_quest6\")\n",
    "newDF.count()"
   ]
  },
  {
   "cell_type": "code",
   "execution_count": 62,
   "metadata": {},
   "outputs": [
    {
     "name": "stdout",
     "output_type": "stream",
     "text": [
      "+-----------+------------------+\n",
      "|CO_UF_CURSO|         avg_media|\n",
      "+-----------+------------------+\n",
      "|         43|47.561388888888914|\n",
      "+-----------+------------------+\n",
      "\n"
     ]
    }
   ],
   "source": [
    "spark.sql('''select CO_UF_CURSO, avg(NT_GER) as avg_media from vw_quest6\n",
    "where CO_GRUPO IN (3201,3202) and CO_UF_CURSO == 43\n",
    "group by CO_UF_CURSO\n",
    "order by avg_media desc''').show(1)"
   ]
  },
  {
   "cell_type": "code",
   "execution_count": 14,
   "metadata": {},
   "outputs": [],
   "source": [
    "## 07. Qual é o estado brasileiro que possui a maior quantidade de alunos de nacionalidade estrangeira inscritos no ENADE 2017?\n",
    "#a. São Paulo. b. Minas Gerais. c. Rio de Janeiro.d. Paraná."
   ]
  },
  {
   "cell_type": "code",
   "execution_count": 17,
   "metadata": {},
   "outputs": [
    {
     "name": "stdout",
     "output_type": "stream",
     "text": [
      "+-------------------+-----+\n",
      "|             ESTADO|TOTAL|\n",
      "+-------------------+-----+\n",
      "|     São Paulo (SP)|40438|\n",
      "|        Paraná (PR)|31169|\n",
      "|Rio de Janeiro (RJ)|12709|\n",
      "|  Minas gerais (MG)| 7757|\n",
      "+-------------------+-----+\n",
      "\n"
     ]
    }
   ],
   "source": [
    "spark.sql(\"\"\"\n",
    "             WITH estados\n",
    "               AS (  \n",
    "                    SELECT CO_CURSO,\n",
    "                           CO_UF_CURSO,\n",
    "                           CASE \n",
    "                                WHEN CO_UF_CURSO = '35' THEN 'São Paulo (SP)'\n",
    "                                WHEN CO_UF_CURSO = '31' THEN 'Minas gerais (MG)'\n",
    "                                WHEN CO_UF_CURSO = '33' THEN 'Rio de Janeiro (RJ)'\n",
    "                                WHEN CO_UF_CURSO = '41' THEN 'Paraná (PR)'\n",
    "                           ELSE '* SEM NOME *' \n",
    "                           END AS ESTADO\n",
    "                         FROM vw_enade\n",
    "                    )\n",
    "\n",
    "             SELECT ESTADO,\n",
    "                    count(ESTADO) AS TOTAL\n",
    "               FROM estados    \n",
    "              WHERE CO_CURSO IN (SELECT CO_CURSO\n",
    "                                   FROM vw_enade_estrangeiro\n",
    "                                  WHERE QE_I03 == 'C')\n",
    "                AND ESTADO <> '* SEM NOME *'   \n",
    "              GROUP BY ESTADO\n",
    "              ORDER BY TOTAL DESC\n",
    "          \"\"\").show()"
   ]
  },
  {
   "cell_type": "code",
   "execution_count": null,
   "metadata": {},
   "outputs": [],
   "source": [
    "#08. Qual é o código do estado brasileiro que possui a maior média de idade de alunos de filosofia?\n",
    "#a. 32.b. 15.c. 35.d. 21.\n"
   ]
  },
  {
   "cell_type": "code",
   "execution_count": 18,
   "metadata": {},
   "outputs": [
    {
     "name": "stdout",
     "output_type": "stream",
     "text": [
      "+---------+-----------+\n",
      "|MED_IDADE|CO_UF_CURSO|\n",
      "+---------+-----------+\n",
      "|    41.04|         42|\n",
      "|    39.37|         21|\n",
      "|    38.42|         11|\n",
      "|    38.01|         32|\n",
      "|    36.59|         43|\n",
      "|    36.39|         31|\n",
      "|    36.31|         15|\n",
      "|     35.9|         41|\n",
      "|    35.71|         35|\n",
      "|    35.56|         29|\n",
      "|    34.79|         12|\n",
      "|    34.35|         33|\n",
      "|    33.92|         51|\n",
      "|    33.72|         50|\n",
      "|    33.22|         25|\n",
      "|    33.18|         53|\n",
      "|    33.05|         27|\n",
      "|    32.84|         22|\n",
      "|    32.59|         52|\n",
      "|    32.52|         17|\n",
      "+---------+-----------+\n",
      "only showing top 20 rows\n",
      "\n"
     ]
    }
   ],
   "source": [
    "spark.sql(\"\"\"\n",
    "             SELECT ROUND(AVG(ei.NU_IDADE),2) AS MED_IDADE,\n",
    "                    e.CO_UF_CURSO\n",
    "               FROM vw_enade AS e\n",
    "              INNER JOIN vw_enade_idade AS ei\n",
    "                 ON e.CO_CURSO == ei.CO_CURSO\n",
    "                AND e.NU_ANO == ei.NU_ANO\n",
    "              WHERE e.CO_GRUPO IN (3201,3202)                  \n",
    "              GROUP BY e.CO_UF_CURSO\n",
    "              ORDER BY MED_IDADE DESC\n",
    "          \"\"\").show()"
   ]
  },
  {
   "cell_type": "code",
   "execution_count": 42,
   "metadata": {},
   "outputs": [
    {
     "data": {
      "text/plain": [
       "537358"
      ]
     },
     "execution_count": 42,
     "metadata": {},
     "output_type": "execute_result"
    }
   ],
   "source": [
    "from pyspark.sql.window import Window\n",
    "from pyspark.sql.functions import row_number\n",
    "\n",
    "w = Window.partitionBy(\"NU_ANO\").orderBy(\"CO_CURSO\")\n",
    "\n",
    "df_enade_row =  df_enade.withColumn(\"columnindex\", row_number().over(w))\n",
    "df_enade_idade_row =  df_enade_idade.withColumn(\"columnindex\", row_number().over(w))\n",
    "\n",
    "newDF = df_enade_row.join(df_enade_idade_row, df_enade_row.columnindex == df_enade_idade_row.columnindex, 'left')\n",
    "newDF.drop(\"df_enade_idade_row.columnindex\",\"df_enade_idade_row.NU_ANO\",\"df_enade_idade_row.CO_CURSO\")\n",
    "newDF.createOrReplaceTempView(\"vw_quest8\")\n",
    "newDF.count()\n"
   ]
  },
  {
   "cell_type": "code",
   "execution_count": 56,
   "metadata": {},
   "outputs": [
    {
     "name": "stdout",
     "output_type": "stream",
     "text": [
      "+-----------+---------+\n",
      "|CO_UF_CURSO|avg_idade|\n",
      "+-----------+---------+\n",
      "|         42|     38.0|\n",
      "+-----------+---------+\n",
      "only showing top 1 row\n",
      "\n"
     ]
    }
   ],
   "source": [
    "spark.sql('''select CO_UF_CURSO, round(avg(NU_IDADE)) as avg_idade from vw_quest8\n",
    "where CO_GRUPO IN (3201,3202)\n",
    "group by CO_UF_CURSO\n",
    "order by avg_idade desc''').show(1)"
   ]
  }
 ],
 "metadata": {
  "kernelspec": {
   "display_name": "base",
   "language": "python",
   "name": "python3"
  },
  "language_info": {
   "codemirror_mode": {
    "name": "ipython",
    "version": 3
   },
   "file_extension": ".py",
   "mimetype": "text/x-python",
   "name": "python",
   "nbconvert_exporter": "python",
   "pygments_lexer": "ipython3",
   "version": "3.9.13"
  },
  "orig_nbformat": 4,
  "vscode": {
   "interpreter": {
    "hash": "ca9c90c9b299e3c35d28bc96236d8f2c0bd3d51256cb5ad616950692d4a1a879"
   }
  }
 },
 "nbformat": 4,
 "nbformat_minor": 2
}
