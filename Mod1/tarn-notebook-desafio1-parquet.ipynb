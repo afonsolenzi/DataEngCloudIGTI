{
 "cells": [
  {
   "cell_type": "markdown",
   "id": "90df9259",
   "metadata": {},
   "source": [
    "# Bootcamp da Xpe"
   ]
  },
  {
   "cell_type": "markdown",
   "id": "0676d49b",
   "metadata": {},
   "source": [
    "## Engenharia de Dados em Cloud"
   ]
  },
  {
   "cell_type": "markdown",
   "id": "b99938bb",
   "metadata": {},
   "source": [
    "### Módulo 1: Fundamentos em Arquitetura de Dados e Soluções em Nuvem\n"
   ]
  },
  {
   "cell_type": "markdown",
   "id": "acfda5eb",
   "metadata": {},
   "source": [
    "### Objetivos:\n",
    ">> Implementação de um Data Lake; <br>\n",
    ">> Armazenamento de dados em Storage camada Raw; <br>\n",
    ">> Armazenamento de dados em Storage camada Bronze; <br>\n",
    ">> Armazenamento de dados em Storage camada Silver; <br>\n",
    ">> Implementação de Processamento de Big Data; <br>\n",
    ">> IaC de toda estrutura com Terraform; <br>\n",
    ">> Esteiras de Deploy com Github. <br>\n"
   ]
  },
  {
   "cell_type": "markdown",
   "id": "76ae8fc5",
   "metadata": {},
   "source": [
    "### Esse notebook trata dos itens 2 e 3 do desafio\n",
    "2. Realizar tratamento no dataset da RAIS 2020  <br>\n",
    "    a. Modifique os nomes das colunas, trocando espaços por “_”; <br>\n",
    "    b. Retire acentos e caracter especiais das colunas; <br>\n",
    "    c. Transforme todas as colunas em letras minúsculas; <br>\n",
    "    d. Crie uma coluna “uf” através da coluna \"municipio\"; <br>\n",
    "    e. Realize os ajustes no tipo de dado para as colunas de remuneração.\n",
    "\n",
    "3. Transformar os dados no formato parquet e escrevê-los na zona staging ou zona silver do seu Data Lake."
   ]
  },
  {
   "cell_type": "code",
   "execution_count": 1,
   "id": "44c0e6d6",
   "metadata": {
    "execution": {
     "iopub.execute_input": "2023-02-03T17:49:38.197136Z",
     "iopub.status.busy": "2023-02-03T17:49:38.196912Z",
     "iopub.status.idle": "2023-02-03T17:50:18.082709Z",
     "shell.execute_reply": "2023-02-03T17:50:18.082055Z",
     "shell.execute_reply.started": "2023-02-03T17:49:38.197111Z"
    }
   },
   "outputs": [
    {
     "data": {
      "application/vnd.jupyter.widget-view+json": {
       "model_id": "0b4e29f28d5848f2b0b38cdeca5e4cee",
       "version_major": 2,
       "version_minor": 0
      },
      "text/plain": [
       "VBox()"
      ]
     },
     "metadata": {},
     "output_type": "display_data"
    },
    {
     "name": "stdout",
     "output_type": "stream",
     "text": [
      "Starting Spark application\n"
     ]
    },
    {
     "data": {
      "text/html": [
       "<table>\n",
       "<tr><th>ID</th><th>YARN Application ID</th><th>Kind</th><th>State</th><th>Spark UI</th><th>Driver log</th><th>User</th><th>Current session?</th></tr><tr><td>0</td><td>application_1675446198895_0001</td><td>pyspark</td><td>idle</td><td><a target=\"_blank\" href=\"http://ip-172-31-39-16.us-east-2.compute.internal:20888/proxy/application_1675446198895_0001/\" class=\"emr-proxy-link\" emr-resource=\"j-1OPXYY1AJQ8YX\n",
       "\" application-id=\"application_1675446198895_0001\">Link</a></td><td><a target=\"_blank\" href=\"http://ip-172-31-35-129.us-east-2.compute.internal:8042/node/containerlogs/container_1675446198895_0001_01_000001/livy\" >Link</a></td><td>None</td><td>✔</td></tr></table>"
      ],
      "text/plain": [
       "<IPython.core.display.HTML object>"
      ]
     },
     "metadata": {},
     "output_type": "display_data"
    },
    {
     "data": {
      "application/vnd.jupyter.widget-view+json": {
       "model_id": "",
       "version_major": 2,
       "version_minor": 0
      },
      "text/plain": [
       "FloatProgress(value=0.0, bar_style='info', description='Progress:', layout=Layout(height='25px', width='50%'),…"
      ]
     },
     "metadata": {},
     "output_type": "display_data"
    },
    {
     "name": "stdout",
     "output_type": "stream",
     "text": [
      "SparkSession available as 'spark'.\n"
     ]
    },
    {
     "data": {
      "application/vnd.jupyter.widget-view+json": {
       "model_id": "",
       "version_major": 2,
       "version_minor": 0
      },
      "text/plain": [
       "FloatProgress(value=0.0, bar_style='info', description='Progress:', layout=Layout(height='25px', width='50%'),…"
      ]
     },
     "metadata": {},
     "output_type": "display_data"
    }
   ],
   "source": [
    "import pyspark\n",
    "# import pyarrow\n",
    "from pyspark.sql import SparkSession\n",
    "from pyspark.sql.functions import col, lit, input_file_name, regexp_replace\n",
    "from pyspark.sql import functions as spkFn\n",
    "\n",
    "import unicodedata\n",
    "import re"
   ]
  },
  {
   "cell_type": "markdown",
   "id": "75287e6d",
   "metadata": {},
   "source": [
    "#### Inicia uma `Session` do Spark"
   ]
  },
  {
   "cell_type": "code",
   "execution_count": 2,
   "id": "dcdf7629",
   "metadata": {
    "execution": {
     "iopub.execute_input": "2023-02-03T17:50:21.300177Z",
     "iopub.status.busy": "2023-02-03T17:50:21.299942Z",
     "iopub.status.idle": "2023-02-03T17:50:21.373581Z",
     "shell.execute_reply": "2023-02-03T17:50:21.371834Z",
     "shell.execute_reply.started": "2023-02-03T17:50:21.300152Z"
    },
    "tags": []
   },
   "outputs": [
    {
     "data": {
      "application/vnd.jupyter.widget-view+json": {
       "model_id": "72c96ebbf3c74114837ac9e3c013ebf5",
       "version_major": 2,
       "version_minor": 0
      },
      "text/plain": [
       "VBox()"
      ]
     },
     "metadata": {},
     "output_type": "display_data"
    },
    {
     "data": {
      "application/vnd.jupyter.widget-view+json": {
       "model_id": "",
       "version_major": 2,
       "version_minor": 0
      },
      "text/plain": [
       "FloatProgress(value=0.0, bar_style='info', description='Progress:', layout=Layout(height='25px', width='50%'),…"
      ]
     },
     "metadata": {},
     "output_type": "display_data"
    }
   ],
   "source": [
    "spark = (SparkSession.builder\n",
    "                     .appName(\"readFile\")\n",
    "                     .config(\"spark.sql.repl.eagerEval.enabled\", True)\n",
    "                     .getOrCreate()) "
   ]
  },
  {
   "cell_type": "markdown",
   "id": "2e2ef816",
   "metadata": {},
   "source": [
    "#### Path para diretório source e target"
   ]
  },
  {
   "cell_type": "code",
   "execution_count": 4,
   "id": "70c0fc7a",
   "metadata": {
    "execution": {
     "iopub.execute_input": "2023-02-03T17:50:45.932264Z",
     "iopub.status.busy": "2023-02-03T17:50:45.932032Z",
     "iopub.status.idle": "2023-02-03T17:50:45.995495Z",
     "shell.execute_reply": "2023-02-03T17:50:45.994847Z",
     "shell.execute_reply.started": "2023-02-03T17:50:45.932242Z"
    },
    "tags": []
   },
   "outputs": [
    {
     "data": {
      "application/vnd.jupyter.widget-view+json": {
       "model_id": "89d33074747a455cbc9d74cb0561da0c",
       "version_major": 2,
       "version_minor": 0
      },
      "text/plain": [
       "VBox()"
      ]
     },
     "metadata": {},
     "output_type": "display_data"
    },
    {
     "data": {
      "application/vnd.jupyter.widget-view+json": {
       "model_id": "",
       "version_major": 2,
       "version_minor": 0
      },
      "text/plain": [
       "FloatProgress(value=0.0, bar_style='info', description='Progress:', layout=Layout(height='25px', width='50%'),…"
      ]
     },
     "metadata": {},
     "output_type": "display_data"
    }
   ],
   "source": [
    "productRais = \"RAIS2020\"\n",
    "\n",
    "#### Path Cloud AWS\n",
    "pathRaw     = f\"s3://datalake-igti-tf-dev-877854487254/RAW/RAIS-2020/\"\n",
    "pathBronze  = f's3://datalake-igti-tf-dev-877854487254/SILVER/RAIS-2020/'\n",
    "\n",
    "#### Path Load\n",
    "#pathRaw    = f\"D:/{productRais}/DATA_GZIP/\"\n",
    "#pathBronze = f\"D:/{productRais}/bronze/DATA_PARQUET/\""
   ]
  },
  {
   "cell_type": "markdown",
   "id": "c2f7ff43",
   "metadata": {},
   "source": [
    "#### Schema DDL"
   ]
  },
  {
   "cell_type": "code",
   "execution_count": 5,
   "id": "3cf90e6f",
   "metadata": {
    "execution": {
     "iopub.execute_input": "2023-02-03T17:50:50.528198Z",
     "iopub.status.busy": "2023-02-03T17:50:50.527969Z",
     "iopub.status.idle": "2023-02-03T17:51:32.020483Z",
     "shell.execute_reply": "2023-02-03T17:51:32.019730Z",
     "shell.execute_reply.started": "2023-02-03T17:50:50.528174Z"
    },
    "tags": []
   },
   "outputs": [
    {
     "data": {
      "application/vnd.jupyter.widget-view+json": {
       "model_id": "7560347d77544c539ed88012f00ec4e7",
       "version_major": 2,
       "version_minor": 0
      },
      "text/plain": [
       "VBox()"
      ]
     },
     "metadata": {},
     "output_type": "display_data"
    },
    {
     "data": {
      "application/vnd.jupyter.widget-view+json": {
       "model_id": "",
       "version_major": 2,
       "version_minor": 0
      },
      "text/plain": [
       "FloatProgress(value=0.0, bar_style='info', description='Progress:', layout=Layout(height='25px', width='50%'),…"
      ]
     },
     "metadata": {},
     "output_type": "display_data"
    }
   ],
   "source": [
    "fileNameSchema = \"RAIS_VINC_PUB_NORTE.txt.gz\"\n",
    "filePathSchema = f\"{pathRaw}/{fileNameSchema}\"\n",
    "\n",
    "fileDfSchema   = (spark.read\n",
    "                       .format(\"csv\")\n",
    "                       .option(\"header\",\"true\")\n",
    "                       .option(\"sep\", \";\")\n",
    "                       .option(\"encoding\", \"latin1\")\n",
    "                       .option(\"inferSchema\", \"true\")\n",
    "                       .load(filePathSchema)\n",
    "                       .schema)\n",
    "\n",
    "schemaJson     = fileDfSchema.json()\n",
    "schemaDDL      = spark.sparkContext._jvm.org.apache.spark.sql.types.DataType.fromJson(schemaJson).toDDL()"
   ]
  },
  {
   "cell_type": "markdown",
   "id": "ba09e753",
   "metadata": {},
   "source": [
    "#### Ler arquivos com a API DataFrameRead"
   ]
  },
  {
   "cell_type": "code",
   "execution_count": 6,
   "id": "c496cb45",
   "metadata": {
    "execution": {
     "iopub.execute_input": "2023-02-03T17:51:40.599850Z",
     "iopub.status.busy": "2023-02-03T17:51:40.599621Z",
     "iopub.status.idle": "2023-02-03T17:51:41.381038Z",
     "shell.execute_reply": "2023-02-03T17:51:41.380138Z",
     "shell.execute_reply.started": "2023-02-03T17:51:40.599825Z"
    },
    "tags": []
   },
   "outputs": [
    {
     "data": {
      "application/vnd.jupyter.widget-view+json": {
       "model_id": "d63f3abcc5ea4ed18c59c22d4b9b187d",
       "version_major": 2,
       "version_minor": 0
      },
      "text/plain": [
       "VBox()"
      ]
     },
     "metadata": {},
     "output_type": "display_data"
    },
    {
     "data": {
      "application/vnd.jupyter.widget-view+json": {
       "model_id": "",
       "version_major": 2,
       "version_minor": 0
      },
      "text/plain": [
       "FloatProgress(value=0.0, bar_style='info', description='Progress:', layout=Layout(height='25px', width='50%'),…"
      ]
     },
     "metadata": {},
     "output_type": "display_data"
    }
   ],
   "source": [
    "## Read\n",
    "rais2020_csv = (spark.read\n",
    "                     .format(\"csv\")\n",
    "                     .option(\"header\",\"true\")\n",
    "                     .option(\"sep\", \";\")\n",
    "                     .option(\"encoding\", \"latin1\")\n",
    "                     .option(\"inferSchema\", \"true\")\n",
    "                     .schema(schemaDDL)\n",
    "                     .load(pathRaw)\n",
    "                     .withColumn(\"file_name\", lit(input_file_name())))"
   ]
  },
  {
   "cell_type": "code",
   "execution_count": 6,
   "id": "b721058c",
   "metadata": {},
   "outputs": [],
   "source": [
    "# print(rais2020_csv.printSchema())"
   ]
  },
  {
   "cell_type": "markdown",
   "id": "614643f0",
   "metadata": {},
   "source": [
    "### Funções para normalizar as colunas\n",
    "\n",
    "> ***normalizar_colunas***\n",
    "1. Função para normalizar as colunas de um dataframe\n",
    "    - Retira espaços vazios e incluir um underline (Ex: `Sobre Nome -> Sobre_Nome`)\n",
    "    - Retira ponto e incluir um underline (Ex: `Sobre.Nome -> Sobre_Nome`)\n",
    "    - Formata todas as colunas com letras minúsculas (Ex: `Sobre_Nome -> sobre_nome`)\n",
    "\n",
    "> ***normalizar_acentos***\n",
    "2. Função para retirar os acentos de todas as colunas de um dataframe\n",
    "    - Remover espaços nas extremidades (Ex: `\"  sobre_nome  \" -> \"sobre_nome\"`)\n",
    "    - Replace de carácteres especiais por underline (Ex: `sobre@nome -> sobre_nome`)\n",
    "    - Remover underlines nas extremidades (Ex: `_sobre_nome_ -> sobre_nome`)\n",
    "    - Remover acentuação (Ex: `média_mês -> media_mes`)"
   ]
  },
  {
   "cell_type": "code",
   "execution_count": 7,
   "id": "708a3e44",
   "metadata": {
    "execution": {
     "iopub.execute_input": "2023-02-03T17:51:47.782205Z",
     "iopub.status.busy": "2023-02-03T17:51:47.781965Z",
     "iopub.status.idle": "2023-02-03T17:51:47.850000Z",
     "shell.execute_reply": "2023-02-03T17:51:47.849344Z",
     "shell.execute_reply.started": "2023-02-03T17:51:47.782167Z"
    },
    "tags": []
   },
   "outputs": [
    {
     "data": {
      "application/vnd.jupyter.widget-view+json": {
       "model_id": "0448c9a00fdd481f9393941e60d90cfa",
       "version_major": 2,
       "version_minor": 0
      },
      "text/plain": [
       "VBox()"
      ]
     },
     "metadata": {},
     "output_type": "display_data"
    },
    {
     "data": {
      "application/vnd.jupyter.widget-view+json": {
       "model_id": "",
       "version_major": 2,
       "version_minor": 0
      },
      "text/plain": [
       "FloatProgress(value=0.0, bar_style='info', description='Progress:', layout=Layout(height='25px', width='50%'),…"
      ]
     },
     "metadata": {},
     "output_type": "display_data"
    }
   ],
   "source": [
    "## Função para normalizar as colunas de um dataframe\n",
    "def normalizar_colunas(df):\n",
    "  try:\n",
    "    new_column_spaces_lower = (list(map(lambda x: x.replace(\" \", \"_\")\n",
    "                                                   .replace(\".\", \"_\")\n",
    "                                                   .lower(),\n",
    "                                                 df.columns)))\n",
    "    return df.toDF(*new_column_spaces_lower) \n",
    "  except Exception as err:\n",
    "        error_message = f\"Erro ao normalizar nomes das colunas: {str(err)}\"\n",
    "        print(error_message)\n",
    "        raise ValueError(error_message)\n",
    "\n",
    "## Função para retirar os acentos de todas as colunas de um dataframe\n",
    "def normalizar_acentos(str):\n",
    "  try:\n",
    "    new_str = str\n",
    "    # Remover espaços nas extremidades\n",
    "    new_str = new_str.strip()\n",
    "    # Replace de carácteres especiais por underline\n",
    "    new_str = re.sub(r\"[^\\w]\", \"_\", new_str)\n",
    "    # Remover underlines nas extremidades\n",
    "    new_str = new_str.strip(\"_\")\n",
    "    # Remover 2 underlines juntos e deixar apenas 1\n",
    "    new_str = new_str.replace(\"__\", \"_\")\n",
    "    # Remover acentuação\n",
    "    new_str = unicodedata.normalize('NFKD', new_str)\n",
    "    new_str = u\"\".join([c for c in new_str if not unicodedata.combining(c)])\n",
    "    return new_str\n",
    "  except Exception as err:\n",
    "    error_message = f\"Erro ao normalizar nomes das colunas: {str(err)}\"\n",
    "    print(error_message)\n",
    "    raise ValueError(error_message)"
   ]
  },
  {
   "cell_type": "markdown",
   "id": "0a02687b",
   "metadata": {},
   "source": [
    "#### Utiliza as funções no Dataframe"
   ]
  },
  {
   "cell_type": "code",
   "execution_count": 8,
   "id": "767ae65a",
   "metadata": {
    "execution": {
     "iopub.execute_input": "2023-02-03T17:51:53.144353Z",
     "iopub.status.busy": "2023-02-03T17:51:53.144118Z",
     "iopub.status.idle": "2023-02-03T17:51:53.415690Z",
     "shell.execute_reply": "2023-02-03T17:51:53.415011Z",
     "shell.execute_reply.started": "2023-02-03T17:51:53.144329Z"
    },
    "tags": []
   },
   "outputs": [
    {
     "data": {
      "application/vnd.jupyter.widget-view+json": {
       "model_id": "b56a21615efe44568e7c5be3c0b64b8a",
       "version_major": 2,
       "version_minor": 0
      },
      "text/plain": [
       "VBox()"
      ]
     },
     "metadata": {},
     "output_type": "display_data"
    },
    {
     "data": {
      "application/vnd.jupyter.widget-view+json": {
       "model_id": "",
       "version_major": 2,
       "version_minor": 0
      },
      "text/plain": [
       "FloatProgress(value=0.0, bar_style='info', description='Progress:', layout=Layout(height='25px', width='50%'),…"
      ]
     },
     "metadata": {},
     "output_type": "display_data"
    }
   ],
   "source": [
    "renamed_df = normalizar_colunas(rais2020_csv)\n",
    "\n",
    "rais2020_renamed = renamed_df.select([spkFn.col(col).alias(normalizar_acentos(col)) for col in renamed_df.columns])"
   ]
  },
  {
   "cell_type": "code",
   "execution_count": 9,
   "id": "0f8fcfb1",
   "metadata": {},
   "outputs": [],
   "source": [
    "# print(rais2020_renamed.printSchema())"
   ]
  },
  {
   "cell_type": "markdown",
   "id": "d892fc35",
   "metadata": {},
   "source": [
    "#### Normalização das colunas de remuneração e outras\n",
    "> - As colunas de `remuneração` <br>\n",
    "    - Utiliza a função `regexp_replace` para fazer um replace de `,` ***vírgula*** para `.` ***ponto*** <br>\n",
    "    - Converte para o tipo de dado `double`\n",
    "    \n",
    "- Cria a coluna `ano` com a informação do ano do dataset\n",
    "- Cria a coluna `uf` com os dois primeiro caracteres da coluna `municipio` e converte para o tipo de dado `inteiro`\n",
    "- Converte a coluna `mes_desligamento` para o tipo de dado `inteiro`\n"
   ]
  },
  {
   "cell_type": "code",
   "execution_count": 9,
   "id": "ffa44194",
   "metadata": {
    "execution": {
     "iopub.execute_input": "2023-02-03T17:51:56.876290Z",
     "iopub.status.busy": "2023-02-03T17:51:56.876068Z",
     "iopub.status.idle": "2023-02-03T17:51:57.682171Z",
     "shell.execute_reply": "2023-02-03T17:51:57.681465Z",
     "shell.execute_reply.started": "2023-02-03T17:51:56.876267Z"
    },
    "tags": []
   },
   "outputs": [
    {
     "data": {
      "application/vnd.jupyter.widget-view+json": {
       "model_id": "7c30422eb99044ecae9e3bcdce204d33",
       "version_major": 2,
       "version_minor": 0
      },
      "text/plain": [
       "VBox()"
      ]
     },
     "metadata": {},
     "output_type": "display_data"
    },
    {
     "data": {
      "application/vnd.jupyter.widget-view+json": {
       "model_id": "",
       "version_major": 2,
       "version_minor": 0
      },
      "text/plain": [
       "FloatProgress(value=0.0, bar_style='info', description='Progress:', layout=Layout(height='25px', width='50%'),…"
      ]
     },
     "metadata": {},
     "output_type": "display_data"
    }
   ],
   "source": [
    "rais2020_fim = (\n",
    "                 rais2020_renamed\n",
    "                        .withColumn(\"ano\", lit(\"2020\").cast('int'))\n",
    "                        .withColumn(\"uf\", col(\"municipio\").cast('string').substr(1,2).cast('int'))\n",
    "                        .withColumn(\"mes_desligamento\", col('mes_desligamento').cast('int'))\n",
    "                        .withColumn(\"vl_remun_dezembro_nom\", regexp_replace(\"vl_remun_dezembro_nom\", ',', '.').cast('double'))\n",
    "                        .withColumn(\"vl_remun_dezembro_sm\", regexp_replace(\"vl_remun_dezembro_sm\", ',', '.').cast('double'))\n",
    "                        .withColumn(\"vl_remun_media_nom\", regexp_replace(\"vl_remun_media_nom\", ',', '.').cast('double'))\n",
    "                        .withColumn(\"vl_remun_media_sm\", regexp_replace(\"vl_remun_media_sm\", ',', '.').cast('double'))\n",
    "                        .withColumn(\"vl_rem_janeiro_sc\", regexp_replace(\"vl_rem_janeiro_sc\", ',', '.').cast('double'))\n",
    "                        .withColumn(\"vl_rem_fevereiro_sc\", regexp_replace(\"vl_rem_fevereiro_sc\", ',', '.').cast('double'))\n",
    "                        .withColumn(\"vl_rem_marco_sc\", regexp_replace(\"vl_rem_marco_sc\", ',', '.').cast('double'))\n",
    "                        .withColumn(\"vl_rem_abril_sc\", regexp_replace(\"vl_rem_abril_sc\", ',', '.').cast('double'))\n",
    "                        .withColumn(\"vl_rem_maio_sc\", regexp_replace(\"vl_rem_maio_sc\", ',', '.').cast('double'))\n",
    "                        .withColumn(\"vl_rem_junho_sc\", regexp_replace(\"vl_rem_junho_sc\", ',', '.').cast('double'))\n",
    "                        .withColumn(\"vl_rem_julho_sc\", regexp_replace(\"vl_rem_julho_sc\", ',', '.').cast('double'))\n",
    "                        .withColumn(\"vl_rem_agosto_sc\", regexp_replace(\"vl_rem_agosto_sc\", ',', '.').cast('double'))\n",
    "                        .withColumn(\"vl_rem_setembro_sc\", regexp_replace(\"vl_rem_setembro_sc\", ',', '.').cast('double'))\n",
    "                        .withColumn(\"vl_rem_outubro_sc\", regexp_replace(\"vl_rem_outubro_sc\", ',', '.').cast('double'))\n",
    "                        .withColumn(\"vl_rem_novembro_sc\", regexp_replace(\"vl_rem_novembro_sc\", ',', '.').cast('double'))\n",
    "                        .drop(\"vl_remun_dezembro__sm\", \"vl_remun_media__sm\")\n",
    "                )"
   ]
  },
  {
   "cell_type": "code",
   "execution_count": 10,
   "id": "b2e55bdd",
   "metadata": {
    "execution": {
     "iopub.execute_input": "2023-02-03T17:52:07.792250Z",
     "iopub.status.busy": "2023-02-03T17:52:07.792022Z",
     "iopub.status.idle": "2023-02-03T17:52:07.857200Z",
     "shell.execute_reply": "2023-02-03T17:52:07.856504Z",
     "shell.execute_reply.started": "2023-02-03T17:52:07.792227Z"
    },
    "tags": []
   },
   "outputs": [
    {
     "data": {
      "application/vnd.jupyter.widget-view+json": {
       "model_id": "ba7ea6d1a9ad4a839adc0d32b837fcd4",
       "version_major": 2,
       "version_minor": 0
      },
      "text/plain": [
       "VBox()"
      ]
     },
     "metadata": {},
     "output_type": "display_data"
    },
    {
     "data": {
      "application/vnd.jupyter.widget-view+json": {
       "model_id": "",
       "version_major": 2,
       "version_minor": 0
      },
      "text/plain": [
       "FloatProgress(value=0.0, bar_style='info', description='Progress:', layout=Layout(height='25px', width='50%'),…"
      ]
     },
     "metadata": {},
     "output_type": "display_data"
    }
   ],
   "source": [
    "def func_display(df, rows):\n",
    "    return df.pandas_api().head(rows)"
   ]
  },
  {
   "cell_type": "code",
   "execution_count": 11,
   "id": "9a5393f7",
   "metadata": {
    "execution": {
     "iopub.execute_input": "2023-02-03T17:52:27.436029Z",
     "iopub.status.busy": "2023-02-03T17:52:27.435742Z",
     "iopub.status.idle": "2023-02-03T17:52:27.738252Z",
     "shell.execute_reply": "2023-02-03T17:52:27.737249Z",
     "shell.execute_reply.started": "2023-02-03T17:52:27.435988Z"
    },
    "tags": []
   },
   "outputs": [
    {
     "data": {
      "application/vnd.jupyter.widget-view+json": {
       "model_id": "210c0ae81faa4fec96848385d1509425",
       "version_major": 2,
       "version_minor": 0
      },
      "text/plain": [
       "VBox()"
      ]
     },
     "metadata": {},
     "output_type": "display_data"
    },
    {
     "data": {
      "application/vnd.jupyter.widget-view+json": {
       "model_id": "",
       "version_major": 2,
       "version_minor": 0
      },
      "text/plain": [
       "FloatProgress(value=0.0, bar_style='info', description='Progress:', layout=Layout(height='25px', width='50%'),…"
      ]
     },
     "metadata": {},
     "output_type": "display_data"
    }
   ],
   "source": [
    "rais2020_fim.createOrReplaceTempView(\"vw_df\")"
   ]
  },
  {
   "cell_type": "code",
   "execution_count": 13,
   "id": "b19c01dc",
   "metadata": {
    "execution": {
     "iopub.execute_input": "2023-02-03T17:53:17.199216Z",
     "iopub.status.busy": "2023-02-03T17:53:17.198993Z",
     "iopub.status.idle": "2023-02-03T17:55:36.993544Z",
     "shell.execute_reply": "2023-02-03T17:55:36.992658Z",
     "shell.execute_reply.started": "2023-02-03T17:53:17.199190Z"
    },
    "tags": []
   },
   "outputs": [
    {
     "data": {
      "application/vnd.jupyter.widget-view+json": {
       "model_id": "fadffc5e21c44268b70654469a703014",
       "version_major": 2,
       "version_minor": 0
      },
      "text/plain": [
       "VBox()"
      ]
     },
     "metadata": {},
     "output_type": "display_data"
    },
    {
     "data": {
      "application/vnd.jupyter.widget-view+json": {
       "model_id": "",
       "version_major": 2,
       "version_minor": 0
      },
      "text/plain": [
       "FloatProgress(value=0.0, bar_style='info', description='Progress:', layout=Layout(height='25px', width='50%'),…"
      ]
     },
     "metadata": {},
     "output_type": "display_data"
    },
    {
     "name": "stdout",
     "output_type": "stream",
     "text": [
      "+---+-------------------+-------+\n",
      "|Row|motivo_desligamento|  total|\n",
      "+---+-------------------+-------+\n",
      "|  2|                 11|9819986|\n",
      "+---+-------------------+-------+"
     ]
    }
   ],
   "source": [
    "##### 01 - Qual é o SEGUNDO motivo de desligamento mais frequente?\n",
    "spark.sql(\"\"\"\n",
    "                    WITH seg_desl_mais_freq\n",
    "                    AS (\n",
    "                        SELECT ROW_NUMBER() OVER(ORDER BY COUNT(motivo_desligamento) DESC) AS Row,\n",
    "                            motivo_desligamento,\n",
    "                            count(*) AS total\n",
    "                        FROM vw_df\n",
    "                        GROUP BY motivo_desligamento\n",
    "                        ORDER BY total DESC\n",
    "                        LIMIT 2\n",
    "                    )\n",
    "                    SELECT *\n",
    "                    FROM seg_desl_mais_freq\n",
    "                    WHERE Row = '2'\n",
    "                \"\"\")"
   ]
  },
  {
   "cell_type": "code",
   "execution_count": 14,
   "id": "1148594c",
   "metadata": {
    "execution": {
     "iopub.execute_input": "2023-02-03T17:55:41.896028Z",
     "iopub.status.busy": "2023-02-03T17:55:41.895696Z",
     "iopub.status.idle": "2023-02-03T18:19:27.459557Z",
     "shell.execute_reply": "2023-02-03T18:19:27.458638Z",
     "shell.execute_reply.started": "2023-02-03T17:55:41.895988Z"
    },
    "tags": []
   },
   "outputs": [
    {
     "data": {
      "application/vnd.jupyter.widget-view+json": {
       "model_id": "bb67988124274e90b50bd101025f57a1",
       "version_major": 2,
       "version_minor": 0
      },
      "text/plain": [
       "VBox()"
      ]
     },
     "metadata": {},
     "output_type": "display_data"
    },
    {
     "data": {
      "application/vnd.jupyter.widget-view+json": {
       "model_id": "",
       "version_major": 2,
       "version_minor": 0
      },
      "text/plain": [
       "FloatProgress(value=0.0, bar_style='info', description='Progress:', layout=Layout(height='25px', width='50%'),…"
      ]
     },
     "metadata": {},
     "output_type": "display_data"
    }
   ],
   "source": [
    "(\n",
    "    rais2020_fim.write\n",
    "                .format('parquet')\n",
    "                .mode('overwrite')\n",
    "                .partitionBy('ano', 'uf')\n",
    "                .save(pathBronze)\n",
    ")"
   ]
  },
  {
   "cell_type": "code",
   "execution_count": 15,
   "id": "1f183be5",
   "metadata": {
    "execution": {
     "iopub.execute_input": "2023-02-03T18:19:27.461836Z",
     "iopub.status.busy": "2023-02-03T18:19:27.461280Z",
     "iopub.status.idle": "2023-02-03T18:19:29.765818Z",
     "shell.execute_reply": "2023-02-03T18:19:29.764976Z",
     "shell.execute_reply.started": "2023-02-03T18:19:27.461797Z"
    }
   },
   "outputs": [
    {
     "data": {
      "application/vnd.jupyter.widget-view+json": {
       "model_id": "f71908b7ab5d449d8987a688b522e6a4",
       "version_major": 2,
       "version_minor": 0
      },
      "text/plain": [
       "VBox()"
      ]
     },
     "metadata": {},
     "output_type": "display_data"
    },
    {
     "data": {
      "application/vnd.jupyter.widget-view+json": {
       "model_id": "",
       "version_major": 2,
       "version_minor": 0
      },
      "text/plain": [
       "FloatProgress(value=0.0, bar_style='info', description='Progress:', layout=Layout(height='25px', width='50%'),…"
      ]
     },
     "metadata": {},
     "output_type": "display_data"
    }
   ],
   "source": [
    "rais2020_parquet = (\n",
    "                      spark.read\n",
    "                           .format('parquet')\n",
    "                           .load(pathBronze)\n",
    "                   )   "
   ]
  },
  {
   "cell_type": "code",
   "execution_count": 16,
   "id": "86a71d12",
   "metadata": {
    "execution": {
     "iopub.execute_input": "2023-02-03T18:19:29.767500Z",
     "iopub.status.busy": "2023-02-03T18:19:29.767291Z",
     "iopub.status.idle": "2023-02-03T18:19:32.112226Z",
     "shell.execute_reply": "2023-02-03T18:19:32.110924Z",
     "shell.execute_reply.started": "2023-02-03T18:19:29.767475Z"
    }
   },
   "outputs": [
    {
     "data": {
      "application/vnd.jupyter.widget-view+json": {
       "model_id": "46c7a95b15b0482fa87b5cd14e2b91a3",
       "version_major": 2,
       "version_minor": 0
      },
      "text/plain": [
       "VBox()"
      ]
     },
     "metadata": {},
     "output_type": "display_data"
    },
    {
     "data": {
      "application/vnd.jupyter.widget-view+json": {
       "model_id": "",
       "version_major": 2,
       "version_minor": 0
      },
      "text/plain": [
       "FloatProgress(value=0.0, bar_style='info', description='Progress:', layout=Layout(height='25px', width='50%'),…"
      ]
     },
     "metadata": {},
     "output_type": "display_data"
    },
    {
     "name": "stdout",
     "output_type": "stream",
     "text": [
      "74117924"
     ]
    }
   ],
   "source": [
    "rais2020_parquet.count()"
   ]
  },
  {
   "cell_type": "code",
   "execution_count": 17,
   "id": "e278c29e",
   "metadata": {
    "execution": {
     "iopub.execute_input": "2023-02-03T18:19:32.113935Z",
     "iopub.status.busy": "2023-02-03T18:19:32.113684Z",
     "iopub.status.idle": "2023-02-03T18:19:32.529263Z",
     "shell.execute_reply": "2023-02-03T18:19:32.528435Z",
     "shell.execute_reply.started": "2023-02-03T18:19:32.113906Z"
    }
   },
   "outputs": [
    {
     "data": {
      "application/vnd.jupyter.widget-view+json": {
       "model_id": "2035ca4a474d44cea922b6bc4a2a88f6",
       "version_major": 2,
       "version_minor": 0
      },
      "text/plain": [
       "VBox()"
      ]
     },
     "metadata": {},
     "output_type": "display_data"
    },
    {
     "data": {
      "application/vnd.jupyter.widget-view+json": {
       "model_id": "",
       "version_major": 2,
       "version_minor": 0
      },
      "text/plain": [
       "FloatProgress(value=0.0, bar_style='info', description='Progress:', layout=Layout(height='25px', width='50%'),…"
      ]
     },
     "metadata": {},
     "output_type": "display_data"
    },
    {
     "name": "stdout",
     "output_type": "stream",
     "text": [
      "root\n",
      " |-- bairros_sp: string (nullable = true)\n",
      " |-- bairros_fortaleza: string (nullable = true)\n",
      " |-- bairros_rj: string (nullable = true)\n",
      " |-- causa_afastamento_1: integer (nullable = true)\n",
      " |-- causa_afastamento_2: integer (nullable = true)\n",
      " |-- causa_afastamento_3: integer (nullable = true)\n",
      " |-- motivo_desligamento: integer (nullable = true)\n",
      " |-- cbo_ocupacao_2002: string (nullable = true)\n",
      " |-- cnae_2_0_classe: integer (nullable = true)\n",
      " |-- cnae_95_classe: integer (nullable = true)\n",
      " |-- distritos_sp: string (nullable = true)\n",
      " |-- vinculo_ativo_31_12: integer (nullable = true)\n",
      " |-- faixa_etaria: integer (nullable = true)\n",
      " |-- faixa_hora_contrat: integer (nullable = true)\n",
      " |-- faixa_remun_dezem_sm: integer (nullable = true)\n",
      " |-- faixa_remun_media_sm: integer (nullable = true)\n",
      " |-- faixa_tempo_emprego: integer (nullable = true)\n",
      " |-- escolaridade_apos_2005: double (nullable = true)\n",
      " |-- qtd_hora_contr: double (nullable = true)\n",
      " |-- idade: double (nullable = true)\n",
      " |-- ind_cei_vinculado: integer (nullable = true)\n",
      " |-- ind_simples: integer (nullable = true)\n",
      " |-- mes_admissao: integer (nullable = true)\n",
      " |-- mes_desligamento: integer (nullable = true)\n",
      " |-- mun_trab: integer (nullable = true)\n",
      " |-- municipio: integer (nullable = true)\n",
      " |-- nacionalidade: integer (nullable = true)\n",
      " |-- natureza_juridica: integer (nullable = true)\n",
      " |-- ind_portador_defic: integer (nullable = true)\n",
      " |-- qtd_dias_afastamento: double (nullable = true)\n",
      " |-- raca_cor: integer (nullable = true)\n",
      " |-- regioes_adm_df: integer (nullable = true)\n",
      " |-- vl_remun_dezembro_nom: double (nullable = true)\n",
      " |-- vl_remun_dezembro_sm: double (nullable = true)\n",
      " |-- vl_remun_media_nom: double (nullable = true)\n",
      " |-- vl_remun_media_sm: double (nullable = true)\n",
      " |-- cnae_2_0_subclasse: integer (nullable = true)\n",
      " |-- sexo_trabalhador: double (nullable = true)\n",
      " |-- tamanho_estabelecimento: integer (nullable = true)\n",
      " |-- tempo_emprego: string (nullable = true)\n",
      " |-- tipo_admissao: integer (nullable = true)\n",
      " |-- tipo_estab41: integer (nullable = true)\n",
      " |-- tipo_estab42: string (nullable = true)\n",
      " |-- tipo_defic: integer (nullable = true)\n",
      " |-- tipo_vinculo: integer (nullable = true)\n",
      " |-- ibge_subsetor: integer (nullable = true)\n",
      " |-- vl_rem_janeiro_sc: double (nullable = true)\n",
      " |-- vl_rem_fevereiro_sc: double (nullable = true)\n",
      " |-- vl_rem_marco_sc: double (nullable = true)\n",
      " |-- vl_rem_abril_sc: double (nullable = true)\n",
      " |-- vl_rem_maio_sc: double (nullable = true)\n",
      " |-- vl_rem_junho_sc: double (nullable = true)\n",
      " |-- vl_rem_julho_sc: double (nullable = true)\n",
      " |-- vl_rem_agosto_sc: double (nullable = true)\n",
      " |-- vl_rem_setembro_sc: double (nullable = true)\n",
      " |-- vl_rem_outubro_sc: double (nullable = true)\n",
      " |-- vl_rem_novembro_sc: double (nullable = true)\n",
      " |-- ano_chegada_brasil: integer (nullable = true)\n",
      " |-- ind_trab_intermitente: integer (nullable = true)\n",
      " |-- ind_trab_parcial: integer (nullable = true)\n",
      " |-- file_name: string (nullable = true)\n",
      " |-- ano: integer (nullable = true)\n",
      " |-- uf: integer (nullable = true)"
     ]
    }
   ],
   "source": [
    "rais2020_parquet.printSchema()"
   ]
  },
  {
   "cell_type": "code",
   "execution_count": 18,
   "id": "41a7ee74",
   "metadata": {
    "execution": {
     "iopub.execute_input": "2023-02-03T18:19:32.530884Z",
     "iopub.status.busy": "2023-02-03T18:19:32.530632Z",
     "iopub.status.idle": "2023-02-03T18:19:33.303145Z",
     "shell.execute_reply": "2023-02-03T18:19:33.302322Z",
     "shell.execute_reply.started": "2023-02-03T18:19:32.530848Z"
    }
   },
   "outputs": [
    {
     "data": {
      "application/vnd.jupyter.widget-view+json": {
       "model_id": "c5acb73c7e1942ae9ccc990e44c57a06",
       "version_major": 2,
       "version_minor": 0
      },
      "text/plain": [
       "VBox()"
      ]
     },
     "metadata": {},
     "output_type": "display_data"
    },
    {
     "data": {
      "application/vnd.jupyter.widget-view+json": {
       "model_id": "",
       "version_major": 2,
       "version_minor": 0
      },
      "text/plain": [
       "FloatProgress(value=0.0, bar_style='info', description='Progress:', layout=Layout(height='25px', width='50%'),…"
      ]
     },
     "metadata": {},
     "output_type": "display_data"
    }
   ],
   "source": [
    "spark.stop()"
   ]
  }
 ],
 "metadata": {
  "kernelspec": {
   "display_name": "PySpark",
   "language": "python",
   "name": "pysparkkernel"
  },
  "language_info": {
   "codemirror_mode": {
    "name": "python",
    "version": 3
   },
   "file_extension": ".py",
   "mimetype": "text/x-python",
   "name": "pyspark",
   "pygments_lexer": "python3"
  },
  "vscode": {
   "interpreter": {
    "hash": "ca9c90c9b299e3c35d28bc96236d8f2c0bd3d51256cb5ad616950692d4a1a879"
   }
  }
 },
 "nbformat": 4,
 "nbformat_minor": 5
}
